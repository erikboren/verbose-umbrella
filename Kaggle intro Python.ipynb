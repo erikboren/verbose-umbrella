{
 "cells": [
  {
   "cell_type": "code",
   "execution_count": 73,
   "metadata": {},
   "outputs": [],
   "source": [
    "def blackjack_hand_greater_than(hand_1, hand_2):\n",
    "    def evaluate_hand(hand):\n",
    "        sum_hand = 0\n",
    "        \n",
    "        \n",
    "        suits = ['K','Q', 'J', 'A']\n",
    "        \n",
    "        ace_in_hand = hand.count('A')\n",
    "        for card in hand:\n",
    "            if card in suits:\n",
    "               sum_hand = sum_hand + 10\n",
    "            else:\n",
    "               sum_hand = sum_hand + int(card)\n",
    "\n",
    "        while sum_hand >21 and ace_in_hand>0:\n",
    "            sum_hand = sum_hand - 9\n",
    "            ace_in_hand = ace_in_hand -1\n",
    "\n",
    "        return sum_hand\n",
    "\n",
    "    hand_1 = evaluate_hand(hand_1)\n",
    "    hand_2 = evaluate_hand(hand_2)      \n",
    "\n",
    "    print(hand_1,hand_2)\n",
    "\n",
    "    return hand_1 > hand_2 or hand_2 > 21 and hand_1 < 22"
   ]
  },
  {
   "cell_type": "code",
   "execution_count": 75,
   "metadata": {},
   "outputs": [
    {
     "name": "stdout",
     "output_type": "stream",
     "text": [
      "36 32\n",
      "True\n"
     ]
    }
   ],
   "source": [
    "hand_2 = ['5', '7', '5', 'Q', '5']\n",
    "hand_1 = ['2', '10', '5', 'A', '9', '9']\n",
    "\n",
    "print (blackjack_hand_greater_than(hand_1, hand_2))"
   ]
  }
 ],
 "metadata": {
  "kernelspec": {
   "display_name": "Python 3.8.10 64-bit",
   "language": "python",
   "name": "python3"
  },
  "language_info": {
   "codemirror_mode": {
    "name": "ipython",
    "version": 3
   },
   "file_extension": ".py",
   "mimetype": "text/x-python",
   "name": "python",
   "nbconvert_exporter": "python",
   "pygments_lexer": "ipython3",
   "version": "3.8.10"
  },
  "orig_nbformat": 4,
  "vscode": {
   "interpreter": {
    "hash": "916dbcbb3f70747c44a77c7bcd40155683ae19c65e1c03b4aa3499c5328201f1"
   }
  }
 },
 "nbformat": 4,
 "nbformat_minor": 2
}
